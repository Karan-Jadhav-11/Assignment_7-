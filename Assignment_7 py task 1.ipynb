{
 "cells": [
  {
   "cell_type": "markdown",
   "id": "886c6364-f3c6-412a-862f-4768f3ab789b",
   "metadata": {},
   "source": [
    "# Assignment : 7 python task 1"
   ]
  },
  {
   "cell_type": "markdown",
   "id": "edc735ee-6bd0-409a-9c25-5c91d4ddb424",
   "metadata": {},
   "source": [
    "### Q1. Create a function which will take a list as an argument and return the product of all the numbers after creating a flat list.\n",
    "### Use the below-given list as an argument for your function.\n",
    "### list1 = [1,2,3,4, [44,55,66, True], False, (34,56,78,89,34), {1,2,3,3,2,1}, {1:34, \"key2\": [55, 67, 78, 89], 4: (45,22, 61, 34)}, [56, 'data science'], 'Machine Learning']\n",
    "#### Note: you must extract numeric keys and values of the dictionary also."
   ]
  },
  {
   "cell_type": "markdown",
   "id": "492d614b-42d1-4947-adcb-43b4def7c72c",
   "metadata": {},
   "source": [
    "### ANS :"
   ]
  },
  {
   "cell_type": "code",
   "execution_count": 16,
   "id": "8d424e0c-ae9d-45c3-a404-328e00459014",
   "metadata": {},
   "outputs": [],
   "source": [
    "# given list 'list1'\n",
    "list1 = [1,2,3,4, [44,55,66, True], False, (34,56,78,89,34), {1,2,3,3,2,1}, {1:34, \"key2\": [55, 67, 78, 89], 4: (45,22, 61, 34)}, [56, 'data science'], 'Machine Learning']\n"
   ]
  },
  {
   "cell_type": "code",
   "execution_count": 20,
   "id": "1fff595e-427b-4c7c-a4e8-47bcf319dc51",
   "metadata": {},
   "outputs": [
    {
     "name": "stdout",
     "output_type": "stream",
     "text": [
      "Given list :  [1, 2, 3, 4, [44, 55, 66, True], False, (34, 56, 78, 89, 34), {1, 2, 3}, {1: 34, 'key2': [55, 67, 78, 89], 4: (45, 22, 61, 34)}, [56, 'data science'], 'Machine Learning']\n",
      "Flattened List: [1, 2, 3, 4, 44, 55, 66, True, False, 34, 56, 78, 89, 34, 1, 2, 3, 56]\n",
      "Product of Numbers: 0\n"
     ]
    }
   ],
   "source": [
    "\n",
    "print(\"Given list : \", list1 )\n",
    "def flatten_and_product( list1 ):\n",
    "    flattened_list = []\n",
    "\n",
    "    # Function to flatten the nested list\n",
    "    def flatten(nested_item):\n",
    "        for i in nested_item:\n",
    "            if isinstance(i, (list, tuple, set)):\n",
    "                flatten(i)\n",
    "            elif isinstance(i, (int, float)):\n",
    "                flattened_list.append(i)\n",
    "\n",
    "    flatten( list1 )\n",
    "\n",
    "    # Print the flattened list\n",
    "    print(\"Flattened List:\", flattened_list)\n",
    "\n",
    "    # Calculate the product of all numbers in the flattened list\n",
    "    product = 1\n",
    "    for num in flattened_list:\n",
    "        product *= num\n",
    "\n",
    "    return product\n",
    "\n",
    "# Example usage with the provided list\n",
    "list1 = [1, 2, 3, 4, [44, 55, 66, True], False, (34, 56, 78, 89, 34), {1, 2, 3, 3, 2, 1}, {1: 34, \"key2\": [55, 67, 78, 89], 4: (45, 22, 61, 34)}, [56, 'data science'], 'Machine Learning']\n",
    "result = flatten_and_product(list1)\n",
    "print(\"Product of Numbers:\", result)\n"
   ]
  },
  {
   "cell_type": "code",
   "execution_count": null,
   "id": "5bb7f420-dfb8-4639-b9e0-f68fdec25ae1",
   "metadata": {},
   "outputs": [],
   "source": []
  },
  {
   "cell_type": "code",
   "execution_count": null,
   "id": "1fda5e72-aff6-4de0-bbde-12f980c8388b",
   "metadata": {},
   "outputs": [],
   "source": []
  },
  {
   "cell_type": "markdown",
   "id": "1abd0a90-f8c8-41df-8419-bb1be378d86c",
   "metadata": {},
   "source": [
    "### Q2. Write a python program for encrypting a message sent to you by your friend. The logic of encryption should be such that, for a the output should be z. For b, the output should be y. For c, the output should be x respectively. Also, the whitespace should be replaced with a dollar sign. Keep the punctuation marks unchanged.\n",
    "### Input Sentence: I want to become a Data Scientist.\n",
    "#### Encrypt the above input sentence using the program you just created."
   ]
  },
  {
   "cell_type": "code",
   "execution_count": 52,
   "id": "ab252c26-3ba9-4666-bb51-4be8eb3c99f7",
   "metadata": {},
   "outputs": [
    {
     "name": "stdout",
     "output_type": "stream",
     "text": [
      "Original Sentence:  I want to become a Data Scientist.\n",
      "Encrypted Message:  R$dzmg$gl$yvxlnv$z$Wzgz$Hxrvmgrhg.\n"
     ]
    }
   ],
   "source": [
    "def encrypt_message(message):\n",
    "    encrypted_message = \"\"\n",
    "\n",
    "    for char in message:\n",
    "        if char.isalpha():\n",
    "            # Check if the character is uppercase or lowercase\n",
    "            if char.isupper():\n",
    "                encrypted_message += chr(ord('Z') - (ord(char) - ord('A')))\n",
    "            else:\n",
    "                encrypted_message += chr(ord('z') - (ord(char) - ord('a')))\n",
    "        elif char.isspace():\n",
    "            # Replace whitespace with a dollar sign\n",
    "            encrypted_message += \"$\"\n",
    "        else:\n",
    "            # Keep punctuation marks unchanged\n",
    "            encrypted_message += char\n",
    "\n",
    "    return encrypted_message\n",
    "\n",
    "# Input Sentence\n",
    "input_sentence = \"I want to become a Data Scientist.\"\n",
    "\n",
    "# Encrypt the message\n",
    "encrypted_result = encrypt_message(input_sentence)\n",
    "\n",
    "# Display the encrypted message\n",
    "print(\"Original Sentence: \", input_sentence)\n",
    "print(\"Encrypted Message: \", encrypted_result)\n"
   ]
  },
  {
   "cell_type": "code",
   "execution_count": null,
   "id": "008c75f6-1d22-421c-a6a8-0baf5f224286",
   "metadata": {},
   "outputs": [],
   "source": []
  }
 ],
 "metadata": {
  "kernelspec": {
   "display_name": "Python 3 (ipykernel)",
   "language": "python",
   "name": "python3"
  },
  "language_info": {
   "codemirror_mode": {
    "name": "ipython",
    "version": 3
   },
   "file_extension": ".py",
   "mimetype": "text/x-python",
   "name": "python",
   "nbconvert_exporter": "python",
   "pygments_lexer": "ipython3",
   "version": "3.10.8"
  }
 },
 "nbformat": 4,
 "nbformat_minor": 5
}
